{
  "nbformat": 4,
  "nbformat_minor": 0,
  "metadata": {
    "colab": {
      "provenance": []
    },
    "kernelspec": {
      "name": "python3",
      "display_name": "Python 3"
    },
    "language_info": {
      "name": "python"
    }
  },
  "cells": [
    {
      "cell_type": "code",
      "source": [
        "!pip install faker"
      ],
      "metadata": {
        "colab": {
          "base_uri": "https://localhost:8080/"
        },
        "id": "BeB6ayacepHx",
        "outputId": "aabdd52b-f406-467c-a84b-70c9862884e1"
      },
      "execution_count": 2,
      "outputs": [
        {
          "output_type": "stream",
          "name": "stdout",
          "text": [
            "Collecting faker\n",
            "  Downloading Faker-30.8.2-py3-none-any.whl.metadata (15 kB)\n",
            "Requirement already satisfied: python-dateutil>=2.4 in /usr/local/lib/python3.10/dist-packages (from faker) (2.8.2)\n",
            "Requirement already satisfied: typing-extensions in /usr/local/lib/python3.10/dist-packages (from faker) (4.12.2)\n",
            "Requirement already satisfied: six>=1.5 in /usr/local/lib/python3.10/dist-packages (from python-dateutil>=2.4->faker) (1.16.0)\n",
            "Downloading Faker-30.8.2-py3-none-any.whl (1.8 MB)\n",
            "\u001b[?25l   \u001b[90m━━━━━━━━━━━━━━━━━━━━━━━━━━━━━━━━━━━━━━━━\u001b[0m \u001b[32m0.0/1.8 MB\u001b[0m \u001b[31m?\u001b[0m eta \u001b[36m-:--:--\u001b[0m\r\u001b[2K   \u001b[91m━━━\u001b[0m\u001b[90m╺\u001b[0m\u001b[90m━━━━━━━━━━━━━━━━━━━━━━━━━━━━━━━━━━━━\u001b[0m \u001b[32m0.2/1.8 MB\u001b[0m \u001b[31m4.4 MB/s\u001b[0m eta \u001b[36m0:00:01\u001b[0m\r\u001b[2K   \u001b[91m━━━━━━━━━━━━━━━━━━━━━━\u001b[0m\u001b[91m╸\u001b[0m\u001b[90m━━━━━━━━━━━━━━━━━\u001b[0m \u001b[32m1.0/1.8 MB\u001b[0m \u001b[31m14.7 MB/s\u001b[0m eta \u001b[36m0:00:01\u001b[0m\r\u001b[2K   \u001b[91m━━━━━━━━━━━━━━━━━━━━━━━━━━━━━━━━━━━━━━━\u001b[0m\u001b[91m╸\u001b[0m \u001b[32m1.8/1.8 MB\u001b[0m \u001b[31m21.4 MB/s\u001b[0m eta \u001b[36m0:00:01\u001b[0m\r\u001b[2K   \u001b[90m━━━━━━━━━━━━━━━━━━━━━━━━━━━━━━━━━━━━━━━━\u001b[0m \u001b[32m1.8/1.8 MB\u001b[0m \u001b[31m16.5 MB/s\u001b[0m eta \u001b[36m0:00:00\u001b[0m\n",
            "\u001b[?25hInstalling collected packages: faker\n",
            "Successfully installed faker-30.8.2\n"
          ]
        }
      ]
    },
    {
      "cell_type": "code",
      "source": [
        "import pandas as pd\n",
        "from faker import Faker\n",
        "import random\n",
        "import numpy as np\n",
        "\n",
        "# Initialize Faker\n",
        "fake = Faker()\n",
        "\n",
        "# Constants\n",
        "num_records = 50000  # Total number of transactions to generate\n",
        "banks = ['Bank A', 'Bank B', 'Bank C', 'Bank D']\n",
        "threshold_age = 30  # Threshold age for account legitimacy\n",
        "\n",
        "# Function to generate a single transaction\n",
        "def generate_transaction():\n",
        "    transaction_id = fake.uuid4()\n",
        "    sender_upi_id = fake.email()  # Using email as a proxy for UPI ID\n",
        "    receiver_upi_id = fake.email()  # Using email as a proxy for UPI ID\n",
        "    sender_bank = random.choice(banks)\n",
        "    receiver_bank = random.choice(banks)\n",
        "    transaction_amount = round(random.uniform(1, 10000), 2)  # Amount between 1 and 10000\n",
        "    transaction_date = fake.date_time_this_year()\n",
        "\n",
        "    # Randomly generate account age and previous fraud reports\n",
        "    account_age = random.randint(1, 365)  # Account age in days\n",
        "    previous_fraud_reports = random.randint(0, 2)  # Randomly assign some fraud reports\n",
        "\n",
        "    # Randomly determine if the sender/receiver is marked as spam\n",
        "    is_sender_spam = random.choice([0, 1])  # 0 = not spam, 1 = spam\n",
        "    is_receiver_spam = random.choice([0, 1])  # 0 = not spam, 1 = spam\n",
        "\n",
        "    # Complaints count could be between 0 and 5\n",
        "    complaints_count = random.randint(0, 5)\n",
        "\n",
        "    # Determine if the transaction is flagged as fraudulent or legitimate\n",
        "    is_fraud = (account_age < threshold_age) or (previous_fraud_reports > 0)\n",
        "\n",
        "    transaction_status = 'fraudulent' if is_fraud else 'legitimate'\n",
        "\n",
        "    return {\n",
        "        'transaction_id': transaction_id,\n",
        "        'sender_upi_id': sender_upi_id,\n",
        "        'receiver_upi_id': receiver_upi_id,\n",
        "        'sender_bank': sender_bank,\n",
        "        'receiver_bank': receiver_bank,\n",
        "        'transaction_amount': transaction_amount,\n",
        "        'transaction_date': transaction_date,\n",
        "        'account_age': account_age,\n",
        "        'previous_fraud_reports': previous_fraud_reports,\n",
        "        'is_sender_spam': is_sender_spam,\n",
        "        'is_receiver_spam': is_receiver_spam,\n",
        "        'complaints_count': complaints_count,\n",
        "        'transaction_status': transaction_status\n",
        "    }\n",
        "\n",
        "# Generate the dataset\n",
        "data = [generate_transaction() for _ in range(num_records)]\n",
        "df = pd.DataFrame(data)\n",
        "\n",
        "# Ensure the dataset is balanced\n",
        "fraudulent_count = df['transaction_status'].value_counts().get('fraudulent', 0)\n",
        "legitimate_count = df['transaction_status'].value_counts().get('legitimate', 0)\n",
        "\n",
        "# Balancing the dataset by downsampling the legitimate transactions if needed\n",
        "if legitimate_count > fraudulent_count:\n",
        "    df_legitimate = df[df['transaction_status'] == 'legitimate']\n",
        "    df_fraudulent = df[df['transaction_status'] == 'fraudulent']\n",
        "    df_legitimate_balanced = df_legitimate.sample(fraudulent_count, random_state=1)\n",
        "    df_balanced = pd.concat([df_fraudulent, df_legitimate_balanced])\n",
        "else:\n",
        "    df_balanced = df\n",
        "\n",
        "# Save the balanced dataset to a CSV file\n",
        "df_balanced.to_csv('balanced_transaction_dataset.csv', index=False)\n",
        "\n",
        "# Display the first few rows of the balanced dataset\n",
        "print(df_balanced.head())\n",
        "print(\"\\nDataset saved as 'balanced_transaction_dataset.csv'\")\n"
      ],
      "metadata": {
        "id": "JWJHg0axd6YT",
        "colab": {
          "base_uri": "https://localhost:8080/"
        },
        "outputId": "ff0f59ee-183f-43d1-b6ac-25c123b13cd6"
      },
      "execution_count": 3,
      "outputs": [
        {
          "output_type": "stream",
          "name": "stdout",
          "text": [
            "                         transaction_id                sender_upi_id  \\\n",
            "0  592fed66-1ca3-43b4-bed5-2a65e21602c2         joshua52@example.net   \n",
            "1  b49900ab-52ca-4f3b-bbb4-8bc2c4449668           gjones@example.com   \n",
            "2  3e234310-4f46-4558-b68d-635193adfb13         joshua12@example.net   \n",
            "3  33756e01-2775-468b-9e53-e0cb6193f337    rodgerskendra@example.org   \n",
            "4  ed91435c-81b5-4e90-9e20-240e5fb02db2  garrettmeredith@example.com   \n",
            "\n",
            "                receiver_upi_id sender_bank receiver_bank  transaction_amount  \\\n",
            "0  margaretespinoza@example.org      Bank A        Bank A             6731.10   \n",
            "1   phillipsaunders@example.net      Bank A        Bank C             8731.45   \n",
            "2           coliver@example.com      Bank B        Bank B             9578.72   \n",
            "3            mmoody@example.com      Bank B        Bank B             8207.48   \n",
            "4   williamsgregory@example.net      Bank D        Bank A             1496.36   \n",
            "\n",
            "            transaction_date  account_age  previous_fraud_reports  \\\n",
            "0 2024-09-17 15:03:22.173623          127                       1   \n",
            "1 2024-02-08 01:26:14.859978           69                       0   \n",
            "2 2024-01-22 15:43:53.647748          256                       1   \n",
            "3 2024-10-22 20:40:45.441714           27                       1   \n",
            "4 2024-07-25 13:28:41.291942          219                       1   \n",
            "\n",
            "   is_sender_spam  is_receiver_spam  complaints_count transaction_status  \n",
            "0               0                 0                 1         fraudulent  \n",
            "1               1                 0                 0         legitimate  \n",
            "2               1                 0                 5         fraudulent  \n",
            "3               0                 0                 0         fraudulent  \n",
            "4               1                 1                 3         fraudulent  \n",
            "\n",
            "Dataset saved as 'balanced_transaction_dataset.csv'\n"
          ]
        }
      ]
    },
    {
      "cell_type": "code",
      "source": [
        "import pandas as pd\n",
        "\n",
        "# Load the dataset\n",
        "df = pd.read_csv('balanced_transaction_dataset.csv')\n",
        "\n",
        "# Display the first few rows and the shape of the dataset\n",
        "print(df.head())\n",
        "print(\"Shape of the dataset:\", df.shape)\n"
      ],
      "metadata": {
        "colab": {
          "base_uri": "https://localhost:8080/"
        },
        "id": "mWRnlZ4heSq2",
        "outputId": "58e1fa28-2a8c-45cb-84a2-b2457fe944b9"
      },
      "execution_count": 4,
      "outputs": [
        {
          "output_type": "stream",
          "name": "stdout",
          "text": [
            "                         transaction_id                sender_upi_id  \\\n",
            "0  592fed66-1ca3-43b4-bed5-2a65e21602c2         joshua52@example.net   \n",
            "1  b49900ab-52ca-4f3b-bbb4-8bc2c4449668           gjones@example.com   \n",
            "2  3e234310-4f46-4558-b68d-635193adfb13         joshua12@example.net   \n",
            "3  33756e01-2775-468b-9e53-e0cb6193f337    rodgerskendra@example.org   \n",
            "4  ed91435c-81b5-4e90-9e20-240e5fb02db2  garrettmeredith@example.com   \n",
            "\n",
            "                receiver_upi_id sender_bank receiver_bank  transaction_amount  \\\n",
            "0  margaretespinoza@example.org      Bank A        Bank A             6731.10   \n",
            "1   phillipsaunders@example.net      Bank A        Bank C             8731.45   \n",
            "2           coliver@example.com      Bank B        Bank B             9578.72   \n",
            "3            mmoody@example.com      Bank B        Bank B             8207.48   \n",
            "4   williamsgregory@example.net      Bank D        Bank A             1496.36   \n",
            "\n",
            "             transaction_date  account_age  previous_fraud_reports  \\\n",
            "0  2024-09-17 15:03:22.173623          127                       1   \n",
            "1  2024-02-08 01:26:14.859978           69                       0   \n",
            "2  2024-01-22 15:43:53.647748          256                       1   \n",
            "3  2024-10-22 20:40:45.441714           27                       1   \n",
            "4  2024-07-25 13:28:41.291942          219                       1   \n",
            "\n",
            "   is_sender_spam  is_receiver_spam  complaints_count transaction_status  \n",
            "0               0                 0                 1         fraudulent  \n",
            "1               1                 0                 0         legitimate  \n",
            "2               1                 0                 5         fraudulent  \n",
            "3               0                 0                 0         fraudulent  \n",
            "4               1                 1                 3         fraudulent  \n",
            "Shape of the dataset: (50000, 13)\n"
          ]
        }
      ]
    },
    {
      "cell_type": "code",
      "source": [
        "# Step 2: Drop 'transaction_id' if it exists\n",
        "if 'transaction_id' in df.columns:\n",
        "    df.drop('transaction_id', axis=1, inplace=True)\n",
        "\n",
        "# Display the updated DataFrame and its shape\n",
        "print(\"Updated DataFrame after dropping 'transaction_id':\")\n",
        "print(df.head())\n",
        "print(\"Shape of the dataset after dropping 'transaction_id':\", df.shape)"
      ],
      "metadata": {
        "colab": {
          "base_uri": "https://localhost:8080/"
        },
        "id": "cPiFZB0aeTT4",
        "outputId": "8d656828-8c28-4a39-a6ec-332563290742"
      },
      "execution_count": 5,
      "outputs": [
        {
          "output_type": "stream",
          "name": "stdout",
          "text": [
            "Updated DataFrame after dropping 'transaction_id':\n",
            "                 sender_upi_id               receiver_upi_id sender_bank  \\\n",
            "0         joshua52@example.net  margaretespinoza@example.org      Bank A   \n",
            "1           gjones@example.com   phillipsaunders@example.net      Bank A   \n",
            "2         joshua12@example.net           coliver@example.com      Bank B   \n",
            "3    rodgerskendra@example.org            mmoody@example.com      Bank B   \n",
            "4  garrettmeredith@example.com   williamsgregory@example.net      Bank D   \n",
            "\n",
            "  receiver_bank  transaction_amount            transaction_date  account_age  \\\n",
            "0        Bank A             6731.10  2024-09-17 15:03:22.173623          127   \n",
            "1        Bank C             8731.45  2024-02-08 01:26:14.859978           69   \n",
            "2        Bank B             9578.72  2024-01-22 15:43:53.647748          256   \n",
            "3        Bank B             8207.48  2024-10-22 20:40:45.441714           27   \n",
            "4        Bank A             1496.36  2024-07-25 13:28:41.291942          219   \n",
            "\n",
            "   previous_fraud_reports  is_sender_spam  is_receiver_spam  complaints_count  \\\n",
            "0                       1               0                 0                 1   \n",
            "1                       0               1                 0                 0   \n",
            "2                       1               1                 0                 5   \n",
            "3                       1               0                 0                 0   \n",
            "4                       1               1                 1                 3   \n",
            "\n",
            "  transaction_status  \n",
            "0         fraudulent  \n",
            "1         legitimate  \n",
            "2         fraudulent  \n",
            "3         fraudulent  \n",
            "4         fraudulent  \n",
            "Shape of the dataset after dropping 'transaction_id': (50000, 12)\n"
          ]
        }
      ]
    },
    {
      "cell_type": "code",
      "source": [
        "# Step 3: Convert 'transaction_date' to datetime\n",
        "df['transaction_date'] = pd.to_datetime(df['transaction_date'])\n",
        "\n",
        "# Display the updated DataFrame and its shape\n",
        "print(\"Updated DataFrame after converting 'transaction_date' to datetime:\")\n",
        "print(df[['transaction_date']].head())\n",
        "print(\"Shape of the dataset:\", df.shape)\n"
      ],
      "metadata": {
        "colab": {
          "base_uri": "https://localhost:8080/"
        },
        "id": "vTA7udEbeY07",
        "outputId": "45eaef87-7a21-413f-ffa0-41dae27541d0"
      },
      "execution_count": 6,
      "outputs": [
        {
          "output_type": "stream",
          "name": "stdout",
          "text": [
            "Updated DataFrame after converting 'transaction_date' to datetime:\n",
            "            transaction_date\n",
            "0 2024-09-17 15:03:22.173623\n",
            "1 2024-02-08 01:26:14.859978\n",
            "2 2024-01-22 15:43:53.647748\n",
            "3 2024-10-22 20:40:45.441714\n",
            "4 2024-07-25 13:28:41.291942\n",
            "Shape of the dataset: (50000, 12)\n"
          ]
        }
      ]
    },
    {
      "cell_type": "code",
      "source": [
        "# Step 1: Limit unique UPI IDs and group rare values\n",
        "def limit_unique_values(series, threshold=10):\n",
        "    # Find counts of each unique value\n",
        "    counts = series.value_counts()\n",
        "    # Keep only those that meet the threshold, others will be grouped as 'Other'\n",
        "    return series.where(series.isin(counts[counts >= threshold].index), other='Other')\n",
        "\n",
        "# Apply this to both sender and receiver UPI IDs\n",
        "df['sender_upi_id'] = limit_unique_values(df['sender_upi_id'])\n",
        "df['receiver_upi_id'] = limit_unique_values(df['receiver_upi_id'])\n",
        "\n",
        "# Step 2: One-hot encode categorical features again\n",
        "df_encoded = pd.get_dummies(df, columns=['sender_upi_id', 'receiver_upi_id', 'sender_bank', 'receiver_bank'], drop_first=True)\n",
        "\n",
        "# Display the shape of the DataFrame after one-hot encoding\n",
        "print(\"Shape of the dataset after limiting unique values and one-hot encoding:\", df_encoded.shape)"
      ],
      "metadata": {
        "colab": {
          "base_uri": "https://localhost:8080/"
        },
        "id": "okXGpJzJeeGY",
        "outputId": "e5d98392-b690-47db-80f4-a6b35b292859"
      },
      "execution_count": 7,
      "outputs": [
        {
          "output_type": "stream",
          "name": "stdout",
          "text": [
            "Shape of the dataset after limiting unique values and one-hot encoding: (50000, 15)\n"
          ]
        }
      ]
    },
    {
      "cell_type": "code",
      "source": [
        "# Step 3: Prepare features (X) and target variable (y)\n",
        "X = df_encoded.drop('transaction_status', axis=1)  # Features\n",
        "y = df_encoded['transaction_status'].map({'legitimate': 0, 'fraudulent': 1})  # Target variable (1 for fraudulent, 0 for legitimate)\n",
        "\n",
        "# Display the shapes of the features and target variable\n",
        "print(\"X shape:\", X.shape)\n",
        "print(\"y shape:\", y.shape)\n"
      ],
      "metadata": {
        "colab": {
          "base_uri": "https://localhost:8080/"
        },
        "id": "YRPdkVB_ejcq",
        "outputId": "c935e4dd-0447-43c7-8d48-60dc4b63be69"
      },
      "execution_count": 8,
      "outputs": [
        {
          "output_type": "stream",
          "name": "stdout",
          "text": [
            "X shape: (50000, 14)\n",
            "y shape: (50000,)\n"
          ]
        }
      ]
    },
    {
      "cell_type": "code",
      "source": [
        "from sklearn.model_selection import train_test_split\n",
        "\n",
        "# Step 4: Prepare features (X) and target variable (y)\n",
        "X = df_encoded.drop(['transaction_status', 'transaction_date'], axis=1)  # Features\n",
        "y = df_encoded['transaction_status'].map({'legitimate': 0, 'fraudulent': 1})  # Target variable (1 for fraudulent, 0 for legitimate)\n",
        "\n",
        "# Continue with the train-test split\n",
        "X_train, X_test, y_train, y_test = train_test_split(X, y, test_size=0.2, random_state=42, stratify=y)\n",
        "\n",
        "# Print shapes to confirm\n",
        "print(\"X shape:\", X.shape)\n",
        "print(\"y shape:\", y.shape)\n",
        "print(\"X_train shape:\", X_train.shape)\n",
        "print(\"X_test shape:\", X_test.shape)\n",
        "print(\"y_train shape:\", y_train.shape)\n",
        "print(\"y_test shape:\", y_test.shape)"
      ],
      "metadata": {
        "colab": {
          "base_uri": "https://localhost:8080/"
        },
        "id": "0xLl8dlofDWS",
        "outputId": "6680a818-bae8-4ab3-a642-8ad66d98014c"
      },
      "execution_count": 11,
      "outputs": [
        {
          "output_type": "stream",
          "name": "stdout",
          "text": [
            "X shape: (50000, 13)\n",
            "y shape: (50000,)\n",
            "X_train shape: (40000, 13)\n",
            "X_test shape: (10000, 13)\n",
            "y_train shape: (40000,)\n",
            "y_test shape: (10000,)\n"
          ]
        }
      ]
    },
    {
      "cell_type": "code",
      "source": [
        "from sklearn.preprocessing import StandardScaler\n",
        "\n",
        "# Step 5: Standardize the numerical features\n",
        "scaler = StandardScaler()\n",
        "numerical_features = ['transaction_amount', 'account_age', 'previous_fraud_reports', 'complaints_count']\n",
        "\n",
        "# Fit the scaler on the training data and transform both train and test data\n",
        "X_train[numerical_features] = scaler.fit_transform(X_train[numerical_features])\n",
        "X_test[numerical_features] = scaler.transform(X_test[numerical_features])\n",
        "\n",
        "# Display the first few rows of the scaled training data\n",
        "print(X_train.head())"
      ],
      "metadata": {
        "colab": {
          "base_uri": "https://localhost:8080/"
        },
        "id": "ZLZPJUPtfJsS",
        "outputId": "9fe34fb6-ccab-4e0a-e1f7-29789134d34c"
      },
      "execution_count": 12,
      "outputs": [
        {
          "output_type": "stream",
          "name": "stdout",
          "text": [
            "       transaction_amount  account_age  previous_fraud_reports  \\\n",
            "27324            0.598436     1.449159               -1.216858   \n",
            "45992            1.572505    -0.938783               -1.216858   \n",
            "42351           -1.644517     0.937457               -1.216858   \n",
            "12309           -0.999042    -0.891403               -1.216858   \n",
            "4076            -0.369285    -1.696860                1.229641   \n",
            "\n",
            "       is_sender_spam  is_receiver_spam  complaints_count  \\\n",
            "27324               1                 1         -0.873259   \n",
            "45992               1                 1         -0.873259   \n",
            "42351               1                 0         -0.287523   \n",
            "12309               1                 0         -0.287523   \n",
            "4076                1                 1         -0.873259   \n",
            "\n",
            "       sender_upi_id_ksmith@example.org  sender_bank_Bank B  \\\n",
            "27324                             False                True   \n",
            "45992                             False               False   \n",
            "42351                             False               False   \n",
            "12309                             False               False   \n",
            "4076                              False               False   \n",
            "\n",
            "       sender_bank_Bank C  sender_bank_Bank D  receiver_bank_Bank B  \\\n",
            "27324               False               False                 False   \n",
            "45992                True               False                 False   \n",
            "42351                True               False                 False   \n",
            "12309               False               False                  True   \n",
            "4076                False                True                 False   \n",
            "\n",
            "       receiver_bank_Bank C  receiver_bank_Bank D  \n",
            "27324                 False                  True  \n",
            "45992                 False                  True  \n",
            "42351                 False                 False  \n",
            "12309                 False                 False  \n",
            "4076                  False                  True  \n"
          ]
        }
      ]
    },
    {
      "cell_type": "code",
      "source": [
        "from sklearn.ensemble import RandomForestClassifier\n",
        "from sklearn.metrics import classification_report, confusion_matrix\n",
        "\n",
        "# Step 6: Initialize the Random Forest Classifier\n",
        "rf_classifier = RandomForestClassifier(random_state=42)\n",
        "\n",
        "# Step 7: Fit the model on the training data\n",
        "rf_classifier.fit(X_train, y_train)\n",
        "\n",
        "# Step 8: Make predictions on the test set\n",
        "y_pred = rf_classifier.predict(X_test)\n",
        "\n",
        "# Step 9: Evaluate the model\n",
        "conf_matrix = confusion_matrix(y_test, y_pred)\n",
        "class_report = classification_report(y_test, y_pred)\n",
        "\n",
        "# Display the results\n",
        "print(\"Confusion Matrix:\\n\", conf_matrix)\n",
        "print(\"\\nClassification Report:\\n\", class_report)\n"
      ],
      "metadata": {
        "colab": {
          "base_uri": "https://localhost:8080/"
        },
        "id": "o6enrwsufksi",
        "outputId": "420da2d4-3f73-42ef-d74c-8c962318cdc1"
      },
      "execution_count": 13,
      "outputs": [
        {
          "output_type": "stream",
          "name": "stdout",
          "text": [
            "Confusion Matrix:\n",
            " [[3090    0]\n",
            " [   0 6910]]\n",
            "\n",
            "Classification Report:\n",
            "               precision    recall  f1-score   support\n",
            "\n",
            "           0       1.00      1.00      1.00      3090\n",
            "           1       1.00      1.00      1.00      6910\n",
            "\n",
            "    accuracy                           1.00     10000\n",
            "   macro avg       1.00      1.00      1.00     10000\n",
            "weighted avg       1.00      1.00      1.00     10000\n",
            "\n"
          ]
        }
      ]
    },
    {
      "cell_type": "code",
      "source": [
        "from sklearn.model_selection import cross_val_score\n",
        "\n",
        "# Initialize Random Forest Classifier\n",
        "rf_model = RandomForestClassifier(random_state=42)\n",
        "\n",
        "# Perform cross-validation\n",
        "cv_scores = cross_val_score(rf_model, X, y, cv=5)  # 5-fold cross-validation\n",
        "\n",
        "# Display cross-validation scores and mean\n",
        "print(\"Cross-Validation Scores:\", cv_scores)\n",
        "print(\"Mean CV Score:\", cv_scores.mean())"
      ],
      "metadata": {
        "colab": {
          "base_uri": "https://localhost:8080/"
        },
        "id": "8Bz4Vv7OfnqI",
        "outputId": "463d54da-e575-40e6-e9a0-73c5cd5b24d7"
      },
      "execution_count": 14,
      "outputs": [
        {
          "output_type": "stream",
          "name": "stdout",
          "text": [
            "Cross-Validation Scores: [1. 1. 1. 1. 1.]\n",
            "Mean CV Score: 1.0\n"
          ]
        }
      ]
    },
    {
      "cell_type": "code",
      "source": [
        "from sklearn.model_selection import GridSearchCV\n",
        "\n",
        "# Define the parameter grid\n",
        "param_grid = {\n",
        "    'n_estimators': [50, 100, 200],\n",
        "    'max_depth': [None, 10, 20, 30],\n",
        "    'min_samples_split': [2, 5, 10]\n",
        "}\n",
        "\n",
        "# Initialize GridSearchCV\n",
        "grid_search = GridSearchCV(estimator=RandomForestClassifier(random_state=42),\n",
        "                           param_grid=param_grid,\n",
        "                           cv=5,\n",
        "                           scoring='accuracy',\n",
        "                           verbose=2,\n",
        "                           n_jobs=-1)\n",
        "\n",
        "# Fit GridSearchCV\n",
        "grid_search.fit(X_train, y_train)\n",
        "\n",
        "# Display best parameters and best score\n",
        "print(\"Best Parameters:\", grid_search.best_params_)\n",
        "print(\"Best CV Score:\", grid_search.best_score_)"
      ],
      "metadata": {
        "colab": {
          "base_uri": "https://localhost:8080/"
        },
        "id": "7dij4vIRfxr4",
        "outputId": "cbd8ab4e-2c68-4f8e-f754-8591b8c990b3"
      },
      "execution_count": 15,
      "outputs": [
        {
          "output_type": "stream",
          "name": "stdout",
          "text": [
            "Fitting 5 folds for each of 36 candidates, totalling 180 fits\n",
            "Best Parameters: {'max_depth': None, 'min_samples_split': 2, 'n_estimators': 50}\n",
            "Best CV Score: 1.0\n"
          ]
        }
      ]
    },
    {
      "cell_type": "code",
      "source": [
        "# Train the Random Forest model with the best parameters\n",
        "final_model = RandomForestClassifier(\n",
        "    n_estimators=grid_search.best_params_['n_estimators'],\n",
        "    max_depth=grid_search.best_params_['max_depth'],\n",
        "    min_samples_split=grid_search.best_params_['min_samples_split'],\n",
        "    random_state=42\n",
        ")\n",
        "\n",
        "# Fit the model on the training data\n",
        "final_model.fit(X_train, y_train)\n",
        "\n",
        "# Make predictions on the test set\n",
        "y_pred = final_model.predict(X_test)\n",
        "\n",
        "# Evaluate the model\n",
        "from sklearn.metrics import confusion_matrix, classification_report\n",
        "\n",
        "# Confusion Matrix\n",
        "conf_matrix = confusion_matrix(y_test, y_pred)\n",
        "print(\"Confusion Matrix:\")\n",
        "print(conf_matrix)\n",
        "\n",
        "# Classification Report\n",
        "class_report = classification_report(y_test, y_pred)\n",
        "print(\"Classification Report:\")\n",
        "print(class_report)"
      ],
      "metadata": {
        "colab": {
          "base_uri": "https://localhost:8080/"
        },
        "id": "Xa9Tq3F2f9M-",
        "outputId": "53e12e96-28f3-40b8-9b32-9926845280ba"
      },
      "execution_count": 16,
      "outputs": [
        {
          "output_type": "stream",
          "name": "stdout",
          "text": [
            "Confusion Matrix:\n",
            "[[3090    0]\n",
            " [   0 6910]]\n",
            "Classification Report:\n",
            "              precision    recall  f1-score   support\n",
            "\n",
            "           0       1.00      1.00      1.00      3090\n",
            "           1       1.00      1.00      1.00      6910\n",
            "\n",
            "    accuracy                           1.00     10000\n",
            "   macro avg       1.00      1.00      1.00     10000\n",
            "weighted avg       1.00      1.00      1.00     10000\n",
            "\n"
          ]
        }
      ]
    },
    {
      "cell_type": "code",
      "source": [
        "feature_importances = final_model.feature_importances_\n",
        "feature_names = X_train.columns\n",
        "feature_importance_df = pd.DataFrame({'Feature': feature_names, 'Importance': feature_importances})\n",
        "feature_importance_df.sort_values(by='Importance', ascending=False, inplace=True)\n",
        "\n",
        "print(feature_importance_df)"
      ],
      "metadata": {
        "colab": {
          "base_uri": "https://localhost:8080/"
        },
        "id": "QZCxBFZehQjs",
        "outputId": "bfcecc91-b75d-4b6c-d101-5ff57138b0f3"
      },
      "execution_count": 17,
      "outputs": [
        {
          "output_type": "stream",
          "name": "stdout",
          "text": [
            "                             Feature  Importance\n",
            "2             previous_fraud_reports    0.902155\n",
            "1                        account_age    0.086690\n",
            "0                 transaction_amount    0.007504\n",
            "5                   complaints_count    0.001362\n",
            "4                   is_receiver_spam    0.000369\n",
            "3                     is_sender_spam    0.000356\n",
            "8                 sender_bank_Bank C    0.000278\n",
            "7                 sender_bank_Bank B    0.000276\n",
            "12              receiver_bank_Bank D    0.000263\n",
            "9                 sender_bank_Bank D    0.000259\n",
            "10              receiver_bank_Bank B    0.000240\n",
            "11              receiver_bank_Bank C    0.000226\n",
            "6   sender_upi_id_ksmith@example.org    0.000023\n"
          ]
        }
      ]
    },
    {
      "cell_type": "code",
      "source": [
        "import joblib\n",
        "joblib.dump(final_model, 'fraud_detection_model.pkl')"
      ],
      "metadata": {
        "colab": {
          "base_uri": "https://localhost:8080/"
        },
        "id": "cuqBUAl3hYpN",
        "outputId": "09d97ad3-0c7e-4ad8-d5c8-582fd4ee3fda"
      },
      "execution_count": 18,
      "outputs": [
        {
          "output_type": "execute_result",
          "data": {
            "text/plain": [
              "['fraud_detection_model.pkl']"
            ]
          },
          "metadata": {},
          "execution_count": 18
        }
      ]
    },
    {
      "cell_type": "code",
      "source": [],
      "metadata": {
        "id": "fxSiJZYZhjIF"
      },
      "execution_count": null,
      "outputs": []
    }
  ]
}