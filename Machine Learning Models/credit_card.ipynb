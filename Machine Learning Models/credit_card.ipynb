{
  "nbformat": 4,
  "nbformat_minor": 0,
  "metadata": {
    "colab": {
      "provenance": [],
      "gpuType": "T4"
    },
    "kernelspec": {
      "name": "python3",
      "display_name": "Python 3"
    },
    "language_info": {
      "name": "python"
    }
  },
  "cells": [
    {
      "cell_type": "code",
      "execution_count": null,
      "metadata": {
        "id": "cUBlKhZ2tMZ8"
      },
      "outputs": [],
      "source": [
        "import pandas as pd\n",
        "import numpy as np\n",
        "import matplotlib.pyplot as plt\n",
        "import seaborn as sns\n",
        "from sklearn.model_selection import train_test_split\n",
        "from sklearn.preprocessing import StandardScaler\n",
        "from imblearn.over_sampling import SMOTE\n",
        "from sklearn.linear_model import LogisticRegression\n",
        "from sklearn.ensemble import RandomForestClassifier, GradientBoostingClassifier\n",
        "from sklearn.svm import SVC\n",
        "from sklearn.tree import DecisionTreeClassifier\n",
        "from sklearn.neighbors import KNeighborsClassifier\n",
        "from sklearn.metrics import classification_report, confusion_matrix, accuracy_score"
      ]
    },
    {
      "cell_type": "code",
      "source": [
        "data = pd.read_csv('creditcard.csv')"
      ],
      "metadata": {
        "id": "IpxdbuB9V4ok"
      },
      "execution_count": null,
      "outputs": []
    },
    {
      "cell_type": "code",
      "source": [
        "# Display the first few rows of the dataset\n",
        "data.head()\n",
        "\n",
        "# Get summary statistics of the dataset\n",
        "data.describe()\n",
        "\n",
        "# Check for missing values\n",
        "data.isnull().sum()"
      ],
      "metadata": {
        "colab": {
          "base_uri": "https://localhost:8080/",
          "height": 1000
        },
        "id": "bSpIVJ1TWdxu",
        "outputId": "a8641357-b02e-45d3-aed3-e224ccf68aa1"
      },
      "execution_count": null,
      "outputs": [
        {
          "output_type": "execute_result",
          "data": {
            "text/plain": [
              "Time      0\n",
              "V1        0\n",
              "V2        0\n",
              "V3        0\n",
              "V4        0\n",
              "V5        0\n",
              "V6        0\n",
              "V7        0\n",
              "V8        0\n",
              "V9        0\n",
              "V10       0\n",
              "V11       0\n",
              "V12       0\n",
              "V13       0\n",
              "V14       0\n",
              "V15       0\n",
              "V16       0\n",
              "V17       0\n",
              "V18       0\n",
              "V19       0\n",
              "V20       0\n",
              "V21       0\n",
              "V22       0\n",
              "V23       0\n",
              "V24       0\n",
              "V25       0\n",
              "V26       0\n",
              "V27       0\n",
              "V28       0\n",
              "Amount    1\n",
              "Class     1\n",
              "dtype: int64"
            ],
            "text/html": [
              "<div>\n",
              "<style scoped>\n",
              "    .dataframe tbody tr th:only-of-type {\n",
              "        vertical-align: middle;\n",
              "    }\n",
              "\n",
              "    .dataframe tbody tr th {\n",
              "        vertical-align: top;\n",
              "    }\n",
              "\n",
              "    .dataframe thead th {\n",
              "        text-align: right;\n",
              "    }\n",
              "</style>\n",
              "<table border=\"1\" class=\"dataframe\">\n",
              "  <thead>\n",
              "    <tr style=\"text-align: right;\">\n",
              "      <th></th>\n",
              "      <th>0</th>\n",
              "    </tr>\n",
              "  </thead>\n",
              "  <tbody>\n",
              "    <tr>\n",
              "      <th>Time</th>\n",
              "      <td>0</td>\n",
              "    </tr>\n",
              "    <tr>\n",
              "      <th>V1</th>\n",
              "      <td>0</td>\n",
              "    </tr>\n",
              "    <tr>\n",
              "      <th>V2</th>\n",
              "      <td>0</td>\n",
              "    </tr>\n",
              "    <tr>\n",
              "      <th>V3</th>\n",
              "      <td>0</td>\n",
              "    </tr>\n",
              "    <tr>\n",
              "      <th>V4</th>\n",
              "      <td>0</td>\n",
              "    </tr>\n",
              "    <tr>\n",
              "      <th>V5</th>\n",
              "      <td>0</td>\n",
              "    </tr>\n",
              "    <tr>\n",
              "      <th>V6</th>\n",
              "      <td>0</td>\n",
              "    </tr>\n",
              "    <tr>\n",
              "      <th>V7</th>\n",
              "      <td>0</td>\n",
              "    </tr>\n",
              "    <tr>\n",
              "      <th>V8</th>\n",
              "      <td>0</td>\n",
              "    </tr>\n",
              "    <tr>\n",
              "      <th>V9</th>\n",
              "      <td>0</td>\n",
              "    </tr>\n",
              "    <tr>\n",
              "      <th>V10</th>\n",
              "      <td>0</td>\n",
              "    </tr>\n",
              "    <tr>\n",
              "      <th>V11</th>\n",
              "      <td>0</td>\n",
              "    </tr>\n",
              "    <tr>\n",
              "      <th>V12</th>\n",
              "      <td>0</td>\n",
              "    </tr>\n",
              "    <tr>\n",
              "      <th>V13</th>\n",
              "      <td>0</td>\n",
              "    </tr>\n",
              "    <tr>\n",
              "      <th>V14</th>\n",
              "      <td>0</td>\n",
              "    </tr>\n",
              "    <tr>\n",
              "      <th>V15</th>\n",
              "      <td>0</td>\n",
              "    </tr>\n",
              "    <tr>\n",
              "      <th>V16</th>\n",
              "      <td>0</td>\n",
              "    </tr>\n",
              "    <tr>\n",
              "      <th>V17</th>\n",
              "      <td>0</td>\n",
              "    </tr>\n",
              "    <tr>\n",
              "      <th>V18</th>\n",
              "      <td>0</td>\n",
              "    </tr>\n",
              "    <tr>\n",
              "      <th>V19</th>\n",
              "      <td>0</td>\n",
              "    </tr>\n",
              "    <tr>\n",
              "      <th>V20</th>\n",
              "      <td>0</td>\n",
              "    </tr>\n",
              "    <tr>\n",
              "      <th>V21</th>\n",
              "      <td>0</td>\n",
              "    </tr>\n",
              "    <tr>\n",
              "      <th>V22</th>\n",
              "      <td>0</td>\n",
              "    </tr>\n",
              "    <tr>\n",
              "      <th>V23</th>\n",
              "      <td>0</td>\n",
              "    </tr>\n",
              "    <tr>\n",
              "      <th>V24</th>\n",
              "      <td>0</td>\n",
              "    </tr>\n",
              "    <tr>\n",
              "      <th>V25</th>\n",
              "      <td>0</td>\n",
              "    </tr>\n",
              "    <tr>\n",
              "      <th>V26</th>\n",
              "      <td>0</td>\n",
              "    </tr>\n",
              "    <tr>\n",
              "      <th>V27</th>\n",
              "      <td>0</td>\n",
              "    </tr>\n",
              "    <tr>\n",
              "      <th>V28</th>\n",
              "      <td>0</td>\n",
              "    </tr>\n",
              "    <tr>\n",
              "      <th>Amount</th>\n",
              "      <td>1</td>\n",
              "    </tr>\n",
              "    <tr>\n",
              "      <th>Class</th>\n",
              "      <td>1</td>\n",
              "    </tr>\n",
              "  </tbody>\n",
              "</table>\n",
              "</div><br><label><b>dtype:</b> int64</label>"
            ]
          },
          "metadata": {},
          "execution_count": 4
        }
      ]
    },
    {
      "cell_type": "code",
      "source": [
        "# Check for unique values in each column to find any remaining non-numeric entries\n",
        "for column in data.columns:\n",
        "    print(f\"Column: {column}\")\n",
        "    print(data[column].unique())\n",
        "    print(\"-\" * 30)\n"
      ],
      "metadata": {
        "colab": {
          "base_uri": "https://localhost:8080/"
        },
        "id": "z13CmppCXK2h",
        "outputId": "0a8aeb1f-5083-4ac0-ad64-fbfed7aebd0e"
      },
      "execution_count": null,
      "outputs": [
        {
          "output_type": "stream",
          "name": "stdout",
          "text": [
            "Column: Time\n",
            "[    0     1     2 ... 31905 31906 31907]\n",
            "------------------------------\n",
            "Column: V1\n",
            "[-1.35980713  1.19185711 -1.35835406 ...  1.17185236  1.20932967\n",
            " -0.18465297]\n",
            "------------------------------\n",
            "Column: V2\n",
            "[-0.07278117  0.26615071 -1.34016307 ...  0.71804216 -1.13024207\n",
            "  0.37669276]\n",
            "------------------------------\n",
            "Column: V3\n",
            "[ 2.53634674  0.16648011  1.77320934 ... -0.22752092  1.61426061\n",
            "  0.63298768]\n",
            "------------------------------\n",
            "Column: V4\n",
            "[ 1.37815522e+00  4.48154078e-01  3.79779593e-01 ...  1.37372244e+00\n",
            "  2.64802419e-04 -2.28236474e+00]\n",
            "------------------------------\n",
            "Column: V5\n",
            "[-0.33832077  0.06001765 -0.50319813 ...  0.1523492  -1.9744159\n",
            "  0.40355317]\n",
            "------------------------------\n",
            "Column: V6\n",
            "[ 0.46238778 -0.08236081  1.80049938 ... -0.94983954  0.26231959\n",
            " -0.3716659 ]\n",
            "------------------------------\n",
            "Column: V7\n",
            "[ 0.23959855 -0.07880298  0.79146096 ...  0.27142735 -1.36955354\n",
            "  0.69535908]\n",
            "------------------------------\n",
            "Column: V8\n",
            "[ 0.0986979   0.08510165  0.24767579 ... -0.15299953  0.17376884\n",
            " -0.06483461]\n",
            "------------------------------\n",
            "Column: V9\n",
            "[ 0.36378697 -0.25542513 -1.51465432 ... -0.18429727  0.63985537\n",
            "  0.61098648]\n",
            "------------------------------\n",
            "Column: V10\n",
            "[ 0.09079417 -0.16697441  0.20764287 ... -0.73922777  0.20335807\n",
            " -1.53679227]\n",
            "------------------------------\n",
            "Column: V11\n",
            "[-0.55159953  1.61272666  0.62450146 ...  0.71276333 -1.38924085\n",
            " -0.81599756]\n",
            "------------------------------\n",
            "Column: V12\n",
            "[-0.61780086  1.06523531  0.06608369 ...  0.31348587  0.92632486\n",
            "  0.29125481]\n",
            "------------------------------\n",
            "Column: V13\n",
            "[-0.99138985  0.48909502  0.71729273 ...  0.3082248   0.95639602\n",
            "  0.47279041]\n",
            "------------------------------\n",
            "Column: V14\n",
            "[-0.31116935 -0.1437723  -0.16594592 ... -1.37683343 -1.43467608\n",
            "  0.16752594]\n",
            "------------------------------\n",
            "Column: V15\n",
            "[ 1.46817697  0.63555809  2.34586495 ...  1.26874454 -1.78602125\n",
            "  1.71456067]\n",
            "------------------------------\n",
            "Column: V16\n",
            "[-0.47040053  0.46391704 -2.89008319 ...  0.18806188 -2.03677533\n",
            " -0.63837132]\n",
            "------------------------------\n",
            "Column: V17\n",
            "[ 0.20797124 -0.11480466  1.10996938 ...  1.26576884  0.7231706\n",
            " -0.2048135 ]\n",
            "------------------------------\n",
            "Column: V18\n",
            "[ 0.02579058 -0.18336127 -0.12135931 ... -0.01720296  0.59218407\n",
            " -0.34336287]\n",
            "------------------------------\n",
            "Column: V19\n",
            "[ 0.40399296 -0.14578304 -2.2618571  ... -1.10958135 -0.1111852\n",
            "  0.98219452]\n",
            "------------------------------\n",
            "Column: V20\n",
            "[ 0.2514121  -0.06908314  0.52497973 ... -0.11184443 -0.39140789\n",
            "  0.05026769]\n",
            "------------------------------\n",
            "Column: V21\n",
            "[-0.01830678 -0.22577525  0.24799815 ... -0.01358429 -0.52015664\n",
            " -0.13099691]\n",
            "------------------------------\n",
            "Column: V22\n",
            "[ 0.27783758 -0.63867195  0.7716794  ...  0.08875875 -0.5730575\n",
            " -0.31283323]\n",
            "------------------------------\n",
            "Column: V23\n",
            "[-0.11047391  0.10128802  0.90941226 ... -0.05914839  0.03764591\n",
            " -0.15656747]\n",
            "------------------------------\n",
            "Column: V24\n",
            "[ 0.06692807 -0.33984648 -0.68928096 ...  0.27899206  0.48857952\n",
            " -0.89968254]\n",
            "------------------------------\n",
            "Column: V25\n",
            "[ 0.12853936  0.1671704  -0.32764183 ...  0.58988595  0.16144581\n",
            "  0.09318557]\n",
            "------------------------------\n",
            "Column: V26\n",
            "[-0.18911484  0.12589453 -0.13909657 ... -0.3193742   1.0677984\n",
            " -0.13018726]\n",
            "------------------------------\n",
            "Column: V27\n",
            "[ 0.13355838 -0.0089831  -0.05535279 ...  0.05506439  0.02574533\n",
            "  0.0292551 ]\n",
            "------------------------------\n",
            "Column: V28\n",
            "[-0.02105305  0.01472417 -0.05975184 ...  0.05834679  0.0285494\n",
            "  0.00922762]\n",
            "------------------------------\n",
            "Column: Amount\n",
            "[149.62   2.69 378.66 ... 295.73  39.75    nan]\n",
            "------------------------------\n",
            "Column: Class\n",
            "[ 0.  1. nan]\n",
            "------------------------------\n"
          ]
        }
      ]
    },
    {
      "cell_type": "code",
      "source": [
        "# Step 1: Replace '-' with NaN and convert to numeric\n",
        "data.replace('-', np.nan, inplace=True)  # Replace '-' with NaN\n",
        "data = data.apply(pd.to_numeric, errors='coerce')  # Convert to numeric (will set non-convertible values to NaN)\n",
        "\n",
        "# Step 2: Handle missing values (fill or drop)\n",
        "data.fillna(data.mean(), inplace=True)  # Fill NaN with mean\n",
        "# Alternatively, you can drop rows with NaN values\n",
        "# data.dropna(inplace=True)\n",
        "\n",
        "# Step 3: Recheck for any remaining missing values\n",
        "print(data.isnull().sum())\n"
      ],
      "metadata": {
        "colab": {
          "base_uri": "https://localhost:8080/"
        },
        "id": "0V-m0o20XSfb",
        "outputId": "ce9421ab-8e9a-4069-8fe5-ebe014a78b9a"
      },
      "execution_count": null,
      "outputs": [
        {
          "output_type": "stream",
          "name": "stdout",
          "text": [
            "Time      0\n",
            "V1        0\n",
            "V2        0\n",
            "V3        0\n",
            "V4        0\n",
            "V5        0\n",
            "V6        0\n",
            "V7        0\n",
            "V8        0\n",
            "V9        0\n",
            "V10       0\n",
            "V11       0\n",
            "V12       0\n",
            "V13       0\n",
            "V14       0\n",
            "V15       0\n",
            "V16       0\n",
            "V17       0\n",
            "V18       0\n",
            "V19       0\n",
            "V20       0\n",
            "V21       0\n",
            "V22       0\n",
            "V23       0\n",
            "V24       0\n",
            "V25       0\n",
            "V26       0\n",
            "V27       0\n",
            "V28       0\n",
            "Amount    0\n",
            "Class     0\n",
            "dtype: int64\n"
          ]
        }
      ]
    },
    {
      "cell_type": "code",
      "source": [
        "# Inspect unique values in the target variable\n",
        "print(data['Class'].unique())\n"
      ],
      "metadata": {
        "colab": {
          "base_uri": "https://localhost:8080/"
        },
        "id": "HjmToBZgYz2q",
        "outputId": "f0abc432-4783-4b1e-bb76-1bc9ab3c7390"
      },
      "execution_count": null,
      "outputs": [
        {
          "output_type": "stream",
          "name": "stdout",
          "text": [
            "[0.         1.         0.00393107]\n"
          ]
        }
      ]
    },
    {
      "cell_type": "code",
      "source": [
        "# Convert target variable to binary (0 and 1)\n",
        "data['Class'] = (data['Class'] > 0).astype(int)  # Assuming 'Class' > 0 indicates fraud\n"
      ],
      "metadata": {
        "id": "D8AtKvQrZjBc"
      },
      "execution_count": null,
      "outputs": []
    },
    {
      "cell_type": "code",
      "source": [
        "# Check data types\n",
        "print(data.dtypes)\n",
        "\n",
        "# If needed, explicitly convert the target to integer type\n",
        "data['Class'] = data['Class'].astype(int)\n"
      ],
      "metadata": {
        "colab": {
          "base_uri": "https://localhost:8080/"
        },
        "id": "OskEBSv0ZmhF",
        "outputId": "55cbfcab-1f78-43c4-98e2-e6f9e42c8f6e"
      },
      "execution_count": null,
      "outputs": [
        {
          "output_type": "stream",
          "name": "stdout",
          "text": [
            "Time        int64\n",
            "V1        float64\n",
            "V2        float64\n",
            "V3        float64\n",
            "V4        float64\n",
            "V5        float64\n",
            "V6        float64\n",
            "V7        float64\n",
            "V8        float64\n",
            "V9        float64\n",
            "V10       float64\n",
            "V11       float64\n",
            "V12       float64\n",
            "V13       float64\n",
            "V14       float64\n",
            "V15       float64\n",
            "V16       float64\n",
            "V17       float64\n",
            "V18       float64\n",
            "V19       float64\n",
            "V20       float64\n",
            "V21       float64\n",
            "V22       float64\n",
            "V23       float64\n",
            "V24       float64\n",
            "V25       float64\n",
            "V26       float64\n",
            "V27       float64\n",
            "V28       float64\n",
            "Amount    float64\n",
            "Class       int64\n",
            "dtype: object\n"
          ]
        }
      ]
    },
    {
      "cell_type": "code",
      "source": [
        "# Check unique values in the target variable\n",
        "print(\"Unique values in Class column:\", data['Class'].unique())\n",
        "\n",
        "# Ensure 'Class' is of type int (not strictly necessary since it's already int64)\n",
        "data['Class'] = data['Class'].astype(int)\n",
        "\n",
        "# Separate Features and Target\n",
        "X = data.drop(columns=['Class'])  # Features\n",
        "y = data['Class']  # Target variable\n",
        "\n",
        "# Scale Features\n",
        "scaler = StandardScaler()\n",
        "X_scaled = scaler.fit_transform(X)  # Scale the feature data\n",
        "\n",
        "# Handle Class Imbalance with SMOTE\n",
        "smote = SMOTE(random_state=42)\n",
        "X_res, y_res = smote.fit_resample(X_scaled, y)\n",
        "\n",
        "# Train-Test Split\n",
        "X_train, X_test, y_train, y_test = train_test_split(X_res, y_res, test_size=0.3, random_state=42)\n",
        "\n",
        "# Check shapes to ensure proper splitting\n",
        "print(f\"Training set size: {X_train.shape}, Test set size: {X_test.shape}\")"
      ],
      "metadata": {
        "colab": {
          "base_uri": "https://localhost:8080/"
        },
        "id": "Zu3KkVtiZof3",
        "outputId": "54700bec-af19-4036-9afa-e8b73baa7cc5"
      },
      "execution_count": null,
      "outputs": [
        {
          "output_type": "stream",
          "name": "stdout",
          "text": [
            "Unique values in Class column: [0 1]\n",
            "Training set size: (30507, 30), Test set size: (13075, 30)\n"
          ]
        }
      ]
    },
    {
      "cell_type": "code",
      "source": [
        "# Initialize models\n",
        "models = {\n",
        "    \"Logistic Regression\": LogisticRegression(max_iter=1000),\n",
        "    \"Random Forest\": RandomForestClassifier(random_state=42),\n",
        "    \"Gradient Boosting\": GradientBoostingClassifier(random_state=42),\n",
        "    \"Support Vector Machine\": SVC(probability=True, random_state=42),\n",
        "    \"Decision Tree\": DecisionTreeClassifier(random_state=42),\n",
        "    \"K-Nearest Neighbors\": KNeighborsClassifier()\n",
        "}\n",
        "\n",
        "# Train and evaluate each model\n",
        "results = {}\n",
        "for model_name, model in models.items():\n",
        "    model.fit(X_train, y_train)  # Train the model\n",
        "    y_pred = model.predict(X_test)  # Make predictions\n",
        "\n",
        "    # Calculate performance metrics\n",
        "    accuracy = accuracy_score(y_test, y_pred)\n",
        "    report = classification_report(y_test, y_pred, output_dict=True)\n",
        "    results[model_name] = {\n",
        "        \"Accuracy\": accuracy,\n",
        "        \"Precision\": report['1']['precision'],\n",
        "        \"Recall\": report['1']['recall'],\n",
        "        \"F1 Score\": report['1']['f1-score']\n",
        "    }"
      ],
      "metadata": {
        "id": "3KH8JTD0aH8b"
      },
      "execution_count": null,
      "outputs": []
    },
    {
      "cell_type": "code",
      "source": [
        "# Convert results to DataFrame for better visualization\n",
        "results_df = pd.DataFrame(results).T\n",
        "print(\"\\nModel Performance:\\n\", results_df)\n",
        "\n",
        "# Visualize the performance\n",
        "results_df[['Accuracy', 'Precision', 'Recall', 'F1 Score']].plot(kind='bar', figsize=(12, 6))\n",
        "plt.title('Model Performance Comparison')\n",
        "plt.ylabel('Score')\n",
        "plt.xticks(rotation=45)\n",
        "plt.ylim(0, 1)\n",
        "plt.axhline(y=0.5, color='y', linestyle='--')  # Reference line at 0.5 for better understanding\n",
        "plt.show()"
      ],
      "metadata": {
        "colab": {
          "base_uri": "https://localhost:8080/",
          "height": 814
        },
        "id": "6pUS15VSdyqR",
        "outputId": "f01b7d59-b0a4-410b-cdbc-4d6eebf821c5"
      },
      "execution_count": null,
      "outputs": [
        {
          "output_type": "stream",
          "name": "stdout",
          "text": [
            "\n",
            "Model Performance:\n",
            "                         Accuracy  Precision    Recall  F1 Score\n",
            "Logistic Regression     0.974837   0.981776  0.967460  0.974565\n",
            "Random Forest           0.999847   0.999693  1.000000  0.999847\n",
            "Gradient Boosting       0.999235   0.998620  0.999847  0.999233\n",
            "Support Vector Machine  0.983939   0.989291  0.978358  0.983794\n",
            "Decision Tree           0.996558   0.994800  0.998312  0.996553\n",
            "K-Nearest Neighbors     0.999082   0.998161  1.000000  0.999080\n"
          ]
        },
        {
          "output_type": "display_data",
          "data": {
            "text/plain": [
              "<Figure size 1200x600 with 1 Axes>"
            ],
            "image/png": "[encoded data removed]"
          },
          "metadata": {}
        }
      ]
    },
    {
      "cell_type": "code",
      "source": [
        "from sklearn.model_selection import RandomizedSearchCV\n",
        "from sklearn.ensemble import RandomForestClassifier\n",
        "\n",
        "# Define the parameter grid (with corrected max_features)\n",
        "param_grid = {\n",
        "    'n_estimators': [100, 200, 300],\n",
        "    'max_features': ['sqrt', 'log2'],  # Replaced 'auto' with valid options\n",
        "    'max_depth': [None, 10, 20, 30],\n",
        "    'min_samples_split': [2, 5, 10],\n",
        "    'min_samples_leaf': [1, 2, 4]\n",
        "}\n",
        "\n",
        "# Initialize the Random Forest model\n",
        "rf_model = RandomForestClassifier(random_state=42)\n",
        "\n",
        "# Initialize Randomized Search\n",
        "randomized_search = RandomizedSearchCV(estimator=rf_model,\n",
        "                                       param_distributions=param_grid,\n",
        "                                       n_iter=10,  # Adjust for faster testing\n",
        "                                       cv=3,\n",
        "                                       scoring='accuracy',\n",
        "                                       verbose=2,\n",
        "                                       n_jobs=-1)\n",
        "\n",
        "# Fit the Randomized Search\n",
        "randomized_search.fit(X_train, y_train)\n",
        "\n",
        "# Get the best parameters and score\n",
        "best_params = randomized_search.best_params_\n",
        "best_score = randomized_search.best_score_\n",
        "\n",
        "print(f\"Best Parameters: {best_params}\")\n",
        "print(f\"Best Cross-Validation Accuracy: {best_score:.4f}\")\n"
      ],
      "metadata": {
        "colab": {
          "base_uri": "https://localhost:8080/"
        },
        "id": "gj_3da4qafKe",
        "outputId": "0eaf9fe9-6d5e-4ad9-b5dc-db7c3ad82b55"
      },
      "execution_count": null,
      "outputs": [
        {
          "output_type": "stream",
          "name": "stdout",
          "text": [
            "Fitting 3 folds for each of 10 candidates, totalling 30 fits\n",
            "Best Parameters: {'n_estimators': 200, 'min_samples_split': 2, 'min_samples_leaf': 1, 'max_features': 'log2', 'max_depth': 30}\n",
            "Best Cross-Validation Accuracy: 0.9997\n"
          ]
        }
      ]
    },
    {
      "cell_type": "code",
      "source": [
        "# Import necessary metrics\n",
        "from sklearn.metrics import precision_score, recall_score, f1_score\n",
        "\n",
        "# Initialize the RandomForestClassifier with the best parameters\n",
        "final_rf_model = RandomForestClassifier(\n",
        "    n_estimators=200,\n",
        "    min_samples_split=2,\n",
        "    min_samples_leaf=1,\n",
        "    max_features='log2',\n",
        "    max_depth=30,\n",
        "    random_state=42\n",
        ")\n",
        "\n",
        "# Train the model on the entire training set\n",
        "final_rf_model.fit(X_train, y_train)\n",
        "\n",
        "# Make predictions on the test set\n",
        "y_pred = final_rf_model.predict(X_test)\n",
        "\n",
        "# Evaluate the model\n",
        "accuracy = accuracy_score(y_test, y_pred)\n",
        "precision = precision_score(y_test, y_pred)\n",
        "recall = recall_score(y_test, y_pred)\n",
        "f1 = f1_score(y_test, y_pred)\n",
        "\n",
        "# Print the evaluation results\n",
        "print(f\"Test Set Accuracy: {accuracy:.4f}\")\n",
        "print(f\"Test Set Precision: {precision:.4f}\")\n",
        "print(f\"Test Set Recall: {recall:.4f}\")\n",
        "print(f\"Test Set F1 Score: {f1:.4f}\")\n",
        "\n",
        "# Confusion Matrix\n",
        "conf_matrix = confusion_matrix(y_test, y_pred)\n",
        "sns.heatmap(conf_matrix, annot=True, fmt='d', cmap='Blues')\n",
        "plt.title(\"Confusion Matrix\")\n",
        "plt.xlabel(\"Predicted Label\")\n",
        "plt.ylabel(\"True Label\")\n",
        "plt.show()\n"
      ],
      "metadata": {
        "colab": {
          "base_uri": "https://localhost:8080/",
          "height": 541
        },
        "id": "Tkb5umPqeW3X",
        "outputId": "b77cfc1e-002a-41e1-b7fe-0638c372a3ad"
      },
      "execution_count": null,
      "outputs": [
        {
          "output_type": "stream",
          "name": "stdout",
          "text": [
            "Test Set Accuracy: 0.9998\n",
            "Test Set Precision: 0.9997\n",
            "Test Set Recall: 1.0000\n",
            "Test Set F1 Score: 0.9998\n"
          ]
        },
        {
          "output_type": "display_data",
          "data": {
            "text/plain": [
              "<Figure size 640x480 with 2 Axes>"
            ],
            "image/png": "[encoded data removed]"
          },
          "metadata": {}
        }
      ]
    },
    {
      "cell_type": "code",
      "source": [],
      "metadata": {
        "id": "cmLtM-un7F2V"
      },
      "execution_count": null,
      "outputs": []
    }
  ]
}